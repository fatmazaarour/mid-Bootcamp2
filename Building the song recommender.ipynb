{
 "cells": [
  {
   "cell_type": "code",
   "execution_count": 46,
   "id": "eb47c377",
   "metadata": {},
   "outputs": [],
   "source": [
    "import numpy as np\n",
    "import pandas as pd\n",
    "import matplotlib.pyplot as plt\n",
    "import seaborn as sns\n",
    "from scipy.stats import norm\n",
    "from scipy import stats\n",
    "from sklearn.neighbors import KNeighborsRegressor\n",
    "import math\n",
    "import datetime\n",
    "from sklearn import linear_model \n",
    "from sklearn.linear_model import LogisticRegression\n",
    "from sklearn.neural_network import MLPRegressor\n",
    "from sklearn.preprocessing import PowerTransformer\n",
    "from sklearn.metrics import mean_absolute_percentage_error\n",
    "from sklearn.preprocessing import MinMaxScaler, StandardScaler\n",
    "import requests\n",
    "import spotipy\n",
    "import json\n",
    "from spotipy.oauth2 import SpotifyClientCredentials\n",
    "from config import *\n",
    "import time"
   ]
  },
  {
   "cell_type": "code",
   "execution_count": 3,
   "id": "a5eb714e",
   "metadata": {},
   "outputs": [],
   "source": [
    "#!pip install spotipy"
   ]
  },
  {
   "cell_type": "code",
   "execution_count": 47,
   "id": "a286e288",
   "metadata": {},
   "outputs": [],
   "source": [
    "sp = spotipy.Spotify(auth_manager=SpotifyClientCredentials(client_id= client_id,\n",
    "                                                           client_secret= client_secret))"
   ]
  },
  {
   "cell_type": "code",
   "execution_count": 48,
   "id": "2031e02c",
   "metadata": {},
   "outputs": [],
   "source": [
    "X = pd.read_csv('X.csv')"
   ]
  },
  {
   "cell_type": "code",
   "execution_count": 6,
   "id": "df8aed92",
   "metadata": {},
   "outputs": [],
   "source": [
    "def isin_hot(df, title, artist):\n",
    "    \n",
    "    if ( (df['dataset']== \"H\") and (df['title'] == title) and (df['artist']==artist) ):\n",
    "        return True\n",
    "    else: \n",
    "        return False\n",
    "    \n",
    "def get_user_song():\n",
    "    \n",
    "    title = input(\"Please, tell me the title of a song you like: \" )\n",
    "    \n",
    "    return title"
   ]
  },
  {
   "cell_type": "code",
   "execution_count": 40,
   "id": "60b22e3d",
   "metadata": {},
   "outputs": [],
   "source": [
    "def search_song_id_user(df):\n",
    "    \n",
    "    artist_input = df.iloc[0,1] \n",
    "    title = df.iloc[0,0]\n",
    "    \n",
    "\n",
    "    results = sp.search(q=\"track:\"+title,limit=5)\n",
    "    items_list_size = len(results['tracks']['items'])\n",
    "    \n",
    "    song_id = (np.nan)\n",
    "    \n",
    "    if (items_list_size == 0):\n",
    "        print(\"We cannot guess with this song!\".format(song_id))         \n",
    "    \n",
    "    else: # list bigger than 0\n",
    "        if artist_input == None:\n",
    "\n",
    "            song_id = ask_user(results)\n",
    "        \n",
    "        else: # has an artist input\n",
    "            for i in range(items_list_size):\n",
    "                artist_name = results['tracks']['items'][i]['artists'][0]['name']\n",
    "                if (artist_input in artist_name) or (artist_name in artist_input):\n",
    "                    song_id = results['tracks']['items'][i]['id']\n",
    "                \n",
    "    return song_id"
   ]
  },
  {
   "cell_type": "code",
   "execution_count": 49,
   "id": "42fbf844",
   "metadata": {},
   "outputs": [],
   "source": [
    "def ask_user(results):\n",
    "    items_list_size = len(results['tracks']['items'])\n",
    "    artist_list = []\n",
    "    song_list = []\n",
    "    for i in range(items_list_size):\n",
    "        artist_list.append(results['tracks']['items'][i]['artists'][0]['name'])\n",
    "        song_list.append(results['tracks']['items'][i]['name'])\n",
    "\n",
    "    display(pd.DataFrame({'song':song_list, 'artist':artist_list}))\n",
    "    user_input = input('Select the song number that you prefer')\n",
    "\n",
    "    return results['tracks']['items'][int(user_input)]['id']"
   ]
  },
  {
   "cell_type": "markdown",
   "id": "24a8327a",
   "metadata": {},
   "source": [
    "results = sp.search(q=\"track:\"+title,limit=1)\n",
    "results['tracks']['items'][0]['artists'][0]['external_urls']['spotify']"
   ]
  },
  {
   "cell_type": "code",
   "execution_count": 12,
   "id": "936c4d29",
   "metadata": {},
   "outputs": [],
   "source": [
    "def get_audio_features_user(song_id):\n",
    "    song_features = []\n",
    "    \n",
    "    try:\n",
    "        my_dict = sp.audio_features(song_id)[0]\n",
    "        song_features.append(my_dict)\n",
    "\n",
    "    except:\n",
    "        print(\"We cannot guess with this song!\".format(song_id))\n",
    "        my_new_dict = {}\n",
    "        song_features.append(my_new_dict)\n",
    "        \n",
    "     \n",
    "    song_features = pd.DataFrame(song_features)\n",
    "    return song_features"
   ]
  },
  {
   "cell_type": "code",
   "execution_count": 13,
   "id": "a5564654",
   "metadata": {},
   "outputs": [],
   "source": [
    "def add_audio_features(df, audio_features_df):\n",
    "    df_final = pd.concat([df.reset_index(), audio_features_df], axis=1)\n",
    "    df_final.drop(columns=['index', 'id'], inplace=True)\n",
    "    return df_final"
   ]
  },
  {
   "cell_type": "code",
   "execution_count": 15,
   "id": "813dd10d",
   "metadata": {},
   "outputs": [],
   "source": [
    "import pickle\n",
    "def load(filename): \n",
    "    try: \n",
    "        with open(filename, \"rb\") as file: \n",
    "            return pickle.load(file) \n",
    "    except FileNotFoundError: \n",
    "        print(\"File not found!\") "
   ]
  },
  {
   "cell_type": "code",
   "execution_count": 16,
   "id": "8d170454",
   "metadata": {},
   "outputs": [
    {
     "data": {
      "text/plain": [
       "True"
      ]
     },
     "execution_count": 16,
     "metadata": {},
     "output_type": "execute_result"
    }
   ],
   "source": [
    "title = \"as it was\"\n",
    "any(X[X.dataset=='H'].title.apply(lambda x: x.lower() == title))"
   ]
  },
  {
   "cell_type": "code",
   "execution_count": 45,
   "id": "2739e8d4",
   "metadata": {
    "scrolled": true
   },
   "outputs": [
    {
     "name": "stdout",
     "output_type": "stream",
     "text": [
      "----------------------------------------------------\n",
      "------------   GNOD SONG RECOMMENDER   -------------\n",
      "----------------------------------------------------\n",
      "\n",
      "\n",
      "Do you want me to recommend you a song? [1->Yes, 2->No] 1\n",
      "\n",
      "Please, tell me the title of a song you like: drive my car\n"
     ]
    },
    {
     "data": {
      "text/html": [
       "<div>\n",
       "<style scoped>\n",
       "    .dataframe tbody tr th:only-of-type {\n",
       "        vertical-align: middle;\n",
       "    }\n",
       "\n",
       "    .dataframe tbody tr th {\n",
       "        vertical-align: top;\n",
       "    }\n",
       "\n",
       "    .dataframe thead th {\n",
       "        text-align: right;\n",
       "    }\n",
       "</style>\n",
       "<table border=\"1\" class=\"dataframe\">\n",
       "  <thead>\n",
       "    <tr style=\"text-align: right;\">\n",
       "      <th></th>\n",
       "      <th>song</th>\n",
       "      <th>artist</th>\n",
       "    </tr>\n",
       "  </thead>\n",
       "  <tbody>\n",
       "    <tr>\n",
       "      <th>0</th>\n",
       "      <td>Drive My Car - Remastered 2009</td>\n",
       "      <td>The Beatles</td>\n",
       "    </tr>\n",
       "    <tr>\n",
       "      <th>1</th>\n",
       "      <td>Drive My Car</td>\n",
       "      <td>Landon Cube</td>\n",
       "    </tr>\n",
       "    <tr>\n",
       "      <th>2</th>\n",
       "      <td>Drive My Car</td>\n",
       "      <td>Soulive</td>\n",
       "    </tr>\n",
       "    <tr>\n",
       "      <th>3</th>\n",
       "      <td>Drive My Car</td>\n",
       "      <td>Elmo</td>\n",
       "    </tr>\n",
       "    <tr>\n",
       "      <th>4</th>\n",
       "      <td>Drive My Car</td>\n",
       "      <td>The Laurie Berkner Band</td>\n",
       "    </tr>\n",
       "  </tbody>\n",
       "</table>\n",
       "</div>"
      ],
      "text/plain": [
       "                             song                   artist\n",
       "0  Drive My Car - Remastered 2009              The Beatles\n",
       "1                    Drive My Car              Landon Cube\n",
       "2                    Drive My Car                  Soulive\n",
       "3                    Drive My Car                     Elmo\n",
       "4                    Drive My Car  The Laurie Berkner Band"
      ]
     },
     "metadata": {},
     "output_type": "display_data"
    },
    {
     "name": "stdout",
     "output_type": "stream",
     "text": [
      "Select the song number that you prefer1\n",
      "\n",
      "\n",
      "Your recommendation is:\n"
     ]
    },
    {
     "data": {
      "text/html": [
       "<div>\n",
       "<style scoped>\n",
       "    .dataframe tbody tr th:only-of-type {\n",
       "        vertical-align: middle;\n",
       "    }\n",
       "\n",
       "    .dataframe tbody tr th {\n",
       "        vertical-align: top;\n",
       "    }\n",
       "\n",
       "    .dataframe thead th {\n",
       "        text-align: right;\n",
       "    }\n",
       "</style>\n",
       "<table border=\"1\" class=\"dataframe\">\n",
       "  <thead>\n",
       "    <tr style=\"text-align: right;\">\n",
       "      <th></th>\n",
       "      <th>title</th>\n",
       "      <th>artist</th>\n",
       "    </tr>\n",
       "  </thead>\n",
       "  <tbody>\n",
       "    <tr>\n",
       "      <th>974</th>\n",
       "      <td>Fox On The Run</td>\n",
       "      <td>Sweet</td>\n",
       "    </tr>\n",
       "  </tbody>\n",
       "</table>\n",
       "</div>"
      ],
      "text/plain": [
       "              title artist\n",
       "974  Fox On The Run  Sweet"
      ]
     },
     "metadata": {},
     "output_type": "display_data"
    },
    {
     "name": "stdout",
     "output_type": "stream",
     "text": [
      "not hot\n",
      "\n",
      "----------------------------------------------------\n",
      "\n",
      "Do you want me to recommend you another song? [1->Yes, 2->No] 2\n",
      "\n",
      "Come back soon!\n"
     ]
    }
   ],
   "source": [
    "features_clustering = ['danceability', 'energy', 'key', 'loudness', 'mode', 'speechiness', 'acousticness', 'instrumentalness', 'liveness', 'valence', 'tempo', 'duration_ms','time_signature']\n",
    "\n",
    "user_song_id = []\n",
    "\n",
    "print('----------------------------------------------------')\n",
    "print('------------   GNOD SONG RECOMMENDER   -------------')\n",
    "print('----------------------------------------------------')\n",
    "print()\n",
    "print()\n",
    "time.sleep(1)\n",
    "answer = input(\"Do you want me to recommend you a song? [1->Yes, 2->No] \")\n",
    "print()\n",
    "\n",
    "while answer == '1':\n",
    "   \n",
    "    title = get_user_song()\n",
    "    user_dict = {'title': title, 'artist': None}\n",
    "    user_preferences = pd.DataFrame([user_dict])\n",
    "    \n",
    "    user_song_id = search_song_id_user(user_preferences)\n",
    "    \n",
    "    user_audio_features = get_audio_features_user(user_song_id)\n",
    "    \n",
    "    user_preferences = add_audio_features(user_preferences, user_audio_features) #this returns df_final\n",
    "    \n",
    "    df_final = user_preferences[features_clustering]\n",
    "    scaler=load(\"scalers/scaler.pickle\")\n",
    "    df_final_scaled = pd.DataFrame(scaler.transform(df_final),columns=features_clustering)\n",
    "    best_model = load(\"models/kmeans_17.pickle\")\n",
    "    user_cluster = best_model.predict(df_final_scaled)[0]\n",
    "    \n",
    "    hot_df = X[X.dataset == 'H']\n",
    "    nothot_df = X[X.dataset == 'NH']\n",
    "    \n",
    "    if any(hot_df.title.apply(lambda x: x.lower() == title)):\n",
    "        print('')\n",
    "        print('')\n",
    "        print('Your recommendation is:')\n",
    "        recommended_song = hot_df[hot_df.title != title].sample()\n",
    "        display(recommended_song[['title','artist']])\n",
    "#         print(recommended_song['analysis_url'])\n",
    "        print('its hot!')\n",
    "        \n",
    "    else:\n",
    "        print('')\n",
    "        print('')\n",
    "        print('Your recommendation is:')\n",
    "        recommended_song = nothot_df[nothot_df.title != title].sample()\n",
    "        display(recommended_song[['title','artist']])\n",
    "#         print(recommended_song['analysis_url'])\n",
    "        print('not hot')\n",
    "        \n",
    "    time.sleep(1)\n",
    "    print()\n",
    "    print('----------------------------------------------------')\n",
    "    print()\n",
    "    answer = input(\"Do you want me to recommend you another song? [1->Yes, 2->No] \")\n",
    "        \n",
    "\n",
    "print()\n",
    "print(\"Come back soon!\")\n",
    "    \n"
   ]
  }
 ],
 "metadata": {
  "kernelspec": {
   "display_name": "Python 3 (ipykernel)",
   "language": "python",
   "name": "python3"
  },
  "language_info": {
   "codemirror_mode": {
    "name": "ipython",
    "version": 3
   },
   "file_extension": ".py",
   "mimetype": "text/x-python",
   "name": "python",
   "nbconvert_exporter": "python",
   "pygments_lexer": "ipython3",
   "version": "3.9.7"
  },
  "toc": {
   "base_numbering": 1,
   "nav_menu": {},
   "number_sections": true,
   "sideBar": true,
   "skip_h1_title": false,
   "title_cell": "Table of Contents",
   "title_sidebar": "Contents",
   "toc_cell": false,
   "toc_position": {},
   "toc_section_display": true,
   "toc_window_display": false
  },
  "varInspector": {
   "cols": {
    "lenName": 16,
    "lenType": 16,
    "lenVar": 40
   },
   "kernels_config": {
    "python": {
     "delete_cmd_postfix": "",
     "delete_cmd_prefix": "del ",
     "library": "var_list.py",
     "varRefreshCmd": "print(var_dic_list())"
    },
    "r": {
     "delete_cmd_postfix": ") ",
     "delete_cmd_prefix": "rm(",
     "library": "var_list.r",
     "varRefreshCmd": "cat(var_dic_list()) "
    }
   },
   "types_to_exclude": [
    "module",
    "function",
    "builtin_function_or_method",
    "instance",
    "_Feature"
   ],
   "window_display": false
  }
 },
 "nbformat": 4,
 "nbformat_minor": 5
}
